{
 "cells": [
  {
   "cell_type": "code",
   "execution_count": null,
   "metadata": {
    "collapsed": true
   },
   "outputs": [],
   "source": [
    "#N개의 원소\n",
    "#최솟값을 찾는 구간의 시작인덱스\n",
    "for i : 0 -> N-2\n",
    "    minIdx = i #각 구간의 시작인덱스\n",
    "    for j : i+1 -> N-1 #최솟값을 찾는 구간\n",
    "        if arr[minIdx] > arr[j]\n",
    "            minIdx = j\n",
    "    arr[i], arr[minIdx] = arr[minIdx], arr[i]"
   ]
  }
 ],
 "metadata": {
  "kernelspec": {
   "display_name": "Python 2",
   "language": "python",
   "name": "python2"
  },
  "language_info": {
   "codemirror_mode": {
    "name": "ipython",
    "version": 2
   },
   "file_extension": ".py",
   "mimetype": "text/x-python",
   "name": "python",
   "nbconvert_exporter": "python",
   "pygments_lexer": "ipython2",
   "version": "2.7.6"
  }
 },
 "nbformat": 4,
 "nbformat_minor": 0
}
